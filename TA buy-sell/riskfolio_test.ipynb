{
 "cells": [
  {
   "cell_type": "code",
   "execution_count": 28,
   "metadata": {},
   "outputs": [],
   "source": [
    "import pandas as pd\n",
    "import numpy as np\n",
    "from datetime import date, timedelta\n",
    "import json\n",
    "import riskfolio\n",
    "from riskfolio.AuxFunctions import weights_discretizetion\n",
    "\n",
    "from trading import Asset\n",
    "from dateutil.relativedelta import relativedelta\n"
   ]
  },
  {
   "cell_type": "code",
   "execution_count": 42,
   "metadata": {},
   "outputs": [],
   "source": [
    "end = date(2018,12,1) - timedelta(days = 1)\n",
    "start = end - relativedelta(months = 26)\n",
    "frequency = \"1m\"\n",
    "broker = \"gbm\"\n",
    "fiat = \"mx\"\n",
    "from_ = \"db\"\n",
    "valor_portafolio = 10000"
   ]
  },
  {
   "cell_type": "code",
   "execution_count": 43,
   "metadata": {},
   "outputs": [],
   "source": [
    "returns_file = \"2018-12-01 00-00-00_2019-01-01 00-00-00_analysis.json\"\n",
    "returns_pwd = r\"C:\\Users\\ramon\\Documents\\Trading\\WorkingDir\\gbm\\results\\mx\\1m_1\\LR_DSFilterDown\\72_\\{}\".format(returns_file)"
   ]
  },
  {
   "cell_type": "code",
   "execution_count": 44,
   "metadata": {},
   "outputs": [],
   "source": [
    "with open( returns_pwd, \"r\" ) as fp:\n",
    "    returns = json.load( fp )"
   ]
  },
  {
   "cell_type": "code",
   "execution_count": 45,
   "metadata": {},
   "outputs": [],
   "source": [
    "returns = pd.DataFrame.from_dict( returns, orient=\"index\")"
   ]
  },
  {
   "cell_type": "code",
   "execution_count": 57,
   "metadata": {},
   "outputs": [],
   "source": [
    "df = pd.DataFrame()\n",
    "for i in returns.index.to_list()[0:20]:\n",
    "\n",
    "    inst = Asset(\n",
    "        i,\n",
    "        start = start,\n",
    "        end = end,\n",
    "        frequency=frequency,\n",
    "        broker = broker,\n",
    "        fiat = fiat,\n",
    "        from_ = from_\n",
    "    )\n",
    "\n",
    "    if inst.df is None or len(inst.df) == 0: continue\n",
    "\n",
    "    df = pd.concat([ df, inst.df[\"close\"] ], axis = 1)\n",
    "    df.rename(columns = {\"close\":i}, inplace = True)"
   ]
  },
  {
   "cell_type": "code",
   "execution_count": 58,
   "metadata": {},
   "outputs": [],
   "source": [
    "nans = df.isna().sum(axis = 1)\n",
    "nans = nans[ nans == len(df.columns) ].index.to_list()\n",
    "df.drop(df.loc[nans].index, inplace = True)\n",
    "\n",
    "nans = df.isna().sum()\n",
    "nans = nans[ nans > int( len(df) * 0.2 ) ].index.to_list()\n",
    "df.drop( columns = nans, inplace = True )"
   ]
  },
  {
   "cell_type": "code",
   "execution_count": 59,
   "metadata": {},
   "outputs": [
    {
     "data": {
      "text/html": [
       "<div>\n",
       "<style scoped>\n",
       "    .dataframe tbody tr th:only-of-type {\n",
       "        vertical-align: middle;\n",
       "    }\n",
       "\n",
       "    .dataframe tbody tr th {\n",
       "        vertical-align: top;\n",
       "    }\n",
       "\n",
       "    .dataframe thead th {\n",
       "        text-align: right;\n",
       "    }\n",
       "</style>\n",
       "<table border=\"1\" class=\"dataframe\">\n",
       "  <thead>\n",
       "    <tr style=\"text-align: right;\">\n",
       "      <th></th>\n",
       "      <th>AAPL</th>\n",
       "      <th>ABBV</th>\n",
       "      <th>AC</th>\n",
       "      <th>AEROMEX</th>\n",
       "      <th>AGUA</th>\n",
       "      <th>ALPEKA</th>\n",
       "      <th>ALSEA</th>\n",
       "      <th>ARA</th>\n",
       "      <th>AXTELCPO</th>\n",
       "      <th>BABAN</th>\n",
       "      <th>BAC</th>\n",
       "      <th>BACHOCOB</th>\n",
       "      <th>BAFARB</th>\n",
       "      <th>BBVA</th>\n",
       "      <th>BIL</th>\n",
       "      <th>BIMBOA</th>\n",
       "      <th>BRKB</th>\n",
       "      <th>CEMEXCPO</th>\n",
       "      <th>CERAMICB</th>\n",
       "      <th>CIEB</th>\n",
       "    </tr>\n",
       "  </thead>\n",
       "  <tbody>\n",
       "    <tr>\n",
       "      <th>2016-10-01</th>\n",
       "      <td>538.434998</td>\n",
       "      <td>1062.020020</td>\n",
       "      <td>117.620003</td>\n",
       "      <td>37.320000</td>\n",
       "      <td>29.780001</td>\n",
       "      <td>28.139999</td>\n",
       "      <td>70.540001</td>\n",
       "      <td>7.12</td>\n",
       "      <td>4.69</td>\n",
       "      <td>1932.760010</td>\n",
       "      <td>312.839996</td>\n",
       "      <td>83.699997</td>\n",
       "      <td>33.798161</td>\n",
       "      <td>135.559998</td>\n",
       "      <td>91.458054</td>\n",
       "      <td>50.910000</td>\n",
       "      <td>NaN</td>\n",
       "      <td>15.730769</td>\n",
       "      <td>44.5</td>\n",
       "      <td>18.0</td>\n",
       "    </tr>\n",
       "    <tr>\n",
       "      <th>2016-11-01</th>\n",
       "      <td>570.234985</td>\n",
       "      <td>1246.930054</td>\n",
       "      <td>108.559998</td>\n",
       "      <td>35.970001</td>\n",
       "      <td>27.350000</td>\n",
       "      <td>28.309999</td>\n",
       "      <td>60.400002</td>\n",
       "      <td>6.91</td>\n",
       "      <td>4.07</td>\n",
       "      <td>1939.280029</td>\n",
       "      <td>434.329987</td>\n",
       "      <td>80.599998</td>\n",
       "      <td>33.040180</td>\n",
       "      <td>125.959999</td>\n",
       "      <td>91.462044</td>\n",
       "      <td>47.349998</td>\n",
       "      <td>NaN</td>\n",
       "      <td>15.394230</td>\n",
       "      <td>42.5</td>\n",
       "      <td>15.5</td>\n",
       "    </tr>\n",
       "    <tr>\n",
       "      <th>2016-12-01</th>\n",
       "      <td>598.695007</td>\n",
       "      <td>1297.699951</td>\n",
       "      <td>108.070000</td>\n",
       "      <td>39.099998</td>\n",
       "      <td>26.629999</td>\n",
       "      <td>24.770000</td>\n",
       "      <td>59.330002</td>\n",
       "      <td>6.49</td>\n",
       "      <td>3.52</td>\n",
       "      <td>1816.000000</td>\n",
       "      <td>457.019989</td>\n",
       "      <td>84.750000</td>\n",
       "      <td>35.469604</td>\n",
       "      <td>139.000000</td>\n",
       "      <td>91.420113</td>\n",
       "      <td>47.009998</td>\n",
       "      <td>NaN</td>\n",
       "      <td>15.903846</td>\n",
       "      <td>46.5</td>\n",
       "      <td>16.5</td>\n",
       "    </tr>\n",
       "    <tr>\n",
       "      <th>2017-01-01</th>\n",
       "      <td>631.974976</td>\n",
       "      <td>1254.920044</td>\n",
       "      <td>112.500000</td>\n",
       "      <td>38.980000</td>\n",
       "      <td>25.590000</td>\n",
       "      <td>23.990000</td>\n",
       "      <td>60.290001</td>\n",
       "      <td>6.68</td>\n",
       "      <td>3.70</td>\n",
       "      <td>2123.120117</td>\n",
       "      <td>473.730011</td>\n",
       "      <td>80.980003</td>\n",
       "      <td>35.469604</td>\n",
       "      <td>142.800003</td>\n",
       "      <td>1898.380005</td>\n",
       "      <td>46.230000</td>\n",
       "      <td>3450.0</td>\n",
       "      <td>18.519230</td>\n",
       "      <td>47.0</td>\n",
       "      <td>15.5</td>\n",
       "    </tr>\n",
       "    <tr>\n",
       "      <th>2017-02-01</th>\n",
       "      <td>686.757507</td>\n",
       "      <td>1222.719971</td>\n",
       "      <td>112.510002</td>\n",
       "      <td>44.689999</td>\n",
       "      <td>23.620001</td>\n",
       "      <td>21.320000</td>\n",
       "      <td>56.650002</td>\n",
       "      <td>6.05</td>\n",
       "      <td>3.68</td>\n",
       "      <td>2062.149902</td>\n",
       "      <td>495.000000</td>\n",
       "      <td>80.080002</td>\n",
       "      <td>35.469604</td>\n",
       "      <td>130.339996</td>\n",
       "      <td>1833.959961</td>\n",
       "      <td>47.419998</td>\n",
       "      <td>3428.0</td>\n",
       "      <td>16.355768</td>\n",
       "      <td>47.0</td>\n",
       "      <td>16.0</td>\n",
       "    </tr>\n",
       "  </tbody>\n",
       "</table>\n",
       "</div>"
      ],
      "text/plain": [
       "                  AAPL         ABBV          AC    AEROMEX       AGUA  \\\n",
       "2016-10-01  538.434998  1062.020020  117.620003  37.320000  29.780001   \n",
       "2016-11-01  570.234985  1246.930054  108.559998  35.970001  27.350000   \n",
       "2016-12-01  598.695007  1297.699951  108.070000  39.099998  26.629999   \n",
       "2017-01-01  631.974976  1254.920044  112.500000  38.980000  25.590000   \n",
       "2017-02-01  686.757507  1222.719971  112.510002  44.689999  23.620001   \n",
       "\n",
       "               ALPEKA      ALSEA   ARA  AXTELCPO        BABAN         BAC  \\\n",
       "2016-10-01  28.139999  70.540001  7.12      4.69  1932.760010  312.839996   \n",
       "2016-11-01  28.309999  60.400002  6.91      4.07  1939.280029  434.329987   \n",
       "2016-12-01  24.770000  59.330002  6.49      3.52  1816.000000  457.019989   \n",
       "2017-01-01  23.990000  60.290001  6.68      3.70  2123.120117  473.730011   \n",
       "2017-02-01  21.320000  56.650002  6.05      3.68  2062.149902  495.000000   \n",
       "\n",
       "             BACHOCOB     BAFARB        BBVA          BIL     BIMBOA    BRKB  \\\n",
       "2016-10-01  83.699997  33.798161  135.559998    91.458054  50.910000     NaN   \n",
       "2016-11-01  80.599998  33.040180  125.959999    91.462044  47.349998     NaN   \n",
       "2016-12-01  84.750000  35.469604  139.000000    91.420113  47.009998     NaN   \n",
       "2017-01-01  80.980003  35.469604  142.800003  1898.380005  46.230000  3450.0   \n",
       "2017-02-01  80.080002  35.469604  130.339996  1833.959961  47.419998  3428.0   \n",
       "\n",
       "             CEMEXCPO  CERAMICB  CIEB  \n",
       "2016-10-01  15.730769      44.5  18.0  \n",
       "2016-11-01  15.394230      42.5  15.5  \n",
       "2016-12-01  15.903846      46.5  16.5  \n",
       "2017-01-01  18.519230      47.0  15.5  \n",
       "2017-02-01  16.355768      47.0  16.0  "
      ]
     },
     "execution_count": 59,
     "metadata": {},
     "output_type": "execute_result"
    }
   ],
   "source": [
    "df.head()"
   ]
  },
  {
   "cell_type": "code",
   "execution_count": 60,
   "metadata": {},
   "outputs": [],
   "source": [
    "df = df.replace([np.inf, -np.inf], np.nan).dropna()"
   ]
  },
  {
   "cell_type": "code",
   "execution_count": 61,
   "metadata": {},
   "outputs": [],
   "source": [
    "latest_price = df.iloc[-1]\n",
    "\n",
    "port = riskfolio.Portfolio(returns = df.pct_change(periods = 1).dropna())"
   ]
  },
  {
   "cell_type": "code",
   "execution_count": 62,
   "metadata": {},
   "outputs": [],
   "source": [
    "port.assets_stats()"
   ]
  },
  {
   "cell_type": "code",
   "execution_count": 64,
   "metadata": {},
   "outputs": [],
   "source": [
    "port.mu = returns[0][0:20]"
   ]
  },
  {
   "cell_type": "code",
   "execution_count": 65,
   "metadata": {},
   "outputs": [
    {
     "data": {
      "text/plain": [
       "AAPL       -0.300599\n",
       "ABBV       -0.163134\n",
       "AC          0.758766\n",
       "AEROMEX    -0.032128\n",
       "AGUA       -0.127144\n",
       "ALPEKA     -0.036463\n",
       "ALSEA       0.072362\n",
       "ARA         0.040062\n",
       "AXTELCPO   -0.039275\n",
       "BABAN      -0.086491\n",
       "BAC         0.614308\n",
       "BACHOCOB   -0.053347\n",
       "BAFARB     -0.002660\n",
       "BBVA       -0.220047\n",
       "BIL         0.005471\n",
       "BIMBOA      0.040998\n",
       "BRKB        0.068166\n",
       "CEMEXCPO    0.032544\n",
       "CERAMICB   -0.422376\n",
       "CIEB       -0.102429\n",
       "Name: 0, dtype: float64"
      ]
     },
     "execution_count": 65,
     "metadata": {},
     "output_type": "execute_result"
    }
   ],
   "source": [
    "port.mu"
   ]
  },
  {
   "cell_type": "code",
   "execution_count": 67,
   "metadata": {},
   "outputs": [],
   "source": [
    "model = 'Classic' # Could be Classic (historical), BL (Black Litterman) or FM (Factor Model)\n",
    "rm = \"MV\"        \n",
    "obj = \"Sharpe\"\n",
    "\n",
    "hist = True # Use historical scenarios for risk measures that depend on scenarios\n",
    "rf = 0 # Risk free rate\n",
    "\n",
    "l = 2 # Risk aversion factor, only useful when obj is 'Utility'\n",
    "        # Es el factor de cuanto un inversionista es capaz de aceptar riesgo\n",
    "\n",
    "w = port.optimization(model=model, rm=rm, obj=obj, rf=rf, l=l, hist=hist)\n",
    "\n",
    "discrete = weights_discretizetion(w, latest_price, valor_portafolio)\n",
    "\n",
    "discrete = discrete[0].to_dict()\n",
    "\n",
    "total_money = 0\n",
    "for i in discrete:\n",
    "    total_money += ( latest_price[i]*discrete[i] )\n",
    "\n",
    "discrete_weights = {}\n",
    "for i in discrete:\n",
    "    discrete_weights[i] = (latest_price[i]*discrete[i]) / total_money"
   ]
  },
  {
   "cell_type": "code",
   "execution_count": 68,
   "metadata": {},
   "outputs": [
    {
     "data": {
      "text/plain": [
       "{'AAPL': 0.0,\n",
       " 'ABBV': 0.0,\n",
       " 'AC': 0.5792013290176143,\n",
       " 'AEROMEX': 0.013033720091727022,\n",
       " 'AGUA': 0.0,\n",
       " 'ALPEKA': 0.0,\n",
       " 'ALSEA': 0.0,\n",
       " 'ARA': 0.0,\n",
       " 'AXTELCPO': 0.0,\n",
       " 'BABAN': 0.0,\n",
       " 'BAC': 0.4077649508906586,\n",
       " 'BACHOCOB': 0.0,\n",
       " 'BAFARB': 0.0,\n",
       " 'BBVA': 0.0,\n",
       " 'BIL': 0.0,\n",
       " 'BIMBOA': 0.0,\n",
       " 'BRKB': 0.0,\n",
       " 'CEMEXCPO': 0.0,\n",
       " 'CERAMICB': 0.0,\n",
       " 'CIEB': 0.0}"
      ]
     },
     "execution_count": 68,
     "metadata": {},
     "output_type": "execute_result"
    },
    {
     "ename": "",
     "evalue": "",
     "output_type": "error",
     "traceback": [
      "\u001b[1;31mThe Kernel crashed while executing code in the the current cell or a previous cell. Please review the code in the cell(s) to identify a possible cause of the failure. Click <a href='https://aka.ms/vscodeJupyterKernelCrash'>here</a> for more info. View Jupyter <a href='command:jupyter.viewOutput'>log</a> for further details."
     ]
    }
   ],
   "source": [
    "discrete_weights"
   ]
  },
  {
   "cell_type": "code",
   "execution_count": null,
   "metadata": {},
   "outputs": [],
   "source": []
  },
  {
   "cell_type": "code",
   "execution_count": null,
   "metadata": {},
   "outputs": [],
   "source": []
  },
  {
   "cell_type": "code",
   "execution_count": null,
   "metadata": {},
   "outputs": [],
   "source": []
  }
 ],
 "metadata": {
  "kernelspec": {
   "display_name": "Python 3.10.6 ('VirtualEnv': venv)",
   "language": "python",
   "name": "python3"
  },
  "language_info": {
   "codemirror_mode": {
    "name": "ipython",
    "version": 3
   },
   "file_extension": ".py",
   "mimetype": "text/x-python",
   "name": "python",
   "nbconvert_exporter": "python",
   "pygments_lexer": "ipython3",
   "version": "3.10.6"
  },
  "orig_nbformat": 4,
  "vscode": {
   "interpreter": {
    "hash": "05c6edd2ad8f54df3cbfb14affd67243a65bc545ac74faad249fc11b86d2bf4c"
   }
  }
 },
 "nbformat": 4,
 "nbformat_minor": 2
}
